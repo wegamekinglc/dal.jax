{
 "cells": [
  {
   "cell_type": "code",
   "execution_count": 1,
   "id": "a0cf8504-9218-4ec4-8f82-6558b28dc838",
   "metadata": {},
   "outputs": [],
   "source": [
    "from jax import config\n",
    "from dal_utils import print_result\n",
    "config.update(\"jax_enable_x64\", True)"
   ]
  },
  {
   "cell_type": "code",
   "execution_count": 2,
   "id": "f34bfca8-c4cc-4c44-9553-26454e37b9f4",
   "metadata": {},
   "outputs": [],
   "source": [
    "import numpy as np\n",
    "import numpy as np\n",
    "from numpy.random import randn\n",
    "\n",
    "rate, div, vol, spot, strike, barrier = 0.05, 0.03, 0.15, 100.0, 120.0, 150\n",
    "\n",
    "def create_model():\n",
    "    return np.array([rate, div, vol, spot, strike, barrier])\n",
    "\n",
    "n_paths = 2 ** 20\n",
    "T = 3.0"
   ]
  },
  {
   "cell_type": "code",
   "execution_count": 3,
   "id": "32e3687c-a24a-44ee-b0d1-b1aa4bff0a42",
   "metadata": {},
   "outputs": [],
   "source": [
    "default_model = create_model()"
   ]
  },
  {
   "cell_type": "markdown",
   "id": "5851d837-8f4f-4f9e-b73a-76c9bb7fcc44",
   "metadata": {},
   "source": [
    "## 0. DAL\n",
    "------------------"
   ]
  },
  {
   "cell_type": "code",
   "execution_count": 4,
   "id": "895e4123-9b01-47bb-bc0b-98efaadced0f",
   "metadata": {},
   "outputs": [
    {
     "data": {
      "text/plain": [
       "'2024.05.08'"
      ]
     },
     "execution_count": 4,
     "metadata": {},
     "output_type": "execute_result"
    }
   ],
   "source": [
    "# !pip install dal-python -U\n",
    "\n",
    "from dal import *\n",
    "import dal\n",
    "dal.__version__"
   ]
  },
  {
   "cell_type": "code",
   "execution_count": 5,
   "id": "7d696129-421e-4dcd-b4fe-00fd9e81e90f",
   "metadata": {},
   "outputs": [],
   "source": [
    "today = Date_(2022, 9, 15)\n",
    "EvaluationDate_Set(today)\n",
    "\n",
    "maturity = today.AddDays(int(365 * T))\n",
    "maturity\n",
    "freq = \"1M\""
   ]
  },
  {
   "cell_type": "code",
   "execution_count": 6,
   "id": "50da6aea-7bfb-4118-9f9c-1ede787aa914",
   "metadata": {},
   "outputs": [
    {
     "name": "stdout",
     "output_type": "stream",
     "text": [
      "CPU times: total: 0 ns\n",
      "Wall time: 0 ns\n"
     ]
    }
   ],
   "source": [
    "%%time\n",
    "event_dates = [\"STRIKE\", \"BARRIER\", today]\n",
    "events = [f\"{strike:.2f}\", f\"{barrier:.2f}\", \"alive = 1\"]\n",
    "event_dates.append(f\"START: {today} END: {maturity} FREQ: {freq}\")\n",
    "events.append(\"if spot() >= BARRIER:0.1 then alive = 0 end\")\n",
    "event_dates.append(maturity)\n",
    "events.append(f\"if spot() >= BARRIER:0.1 then alive = 0 end\\ncall pays alive * MAX(spot() - STRIKE, 0.0)\")"
   ]
  },
  {
   "cell_type": "code",
   "execution_count": 7,
   "id": "400f1886-04a3-4e63-bd93-ce90b8a0fbac",
   "metadata": {},
   "outputs": [
    {
     "name": "stdout",
     "output_type": "stream",
     "text": [
      "CPU times: total: 1.34 s\n",
      "Wall time: 81.6 ms\n"
     ]
    },
    {
     "data": {
      "text/plain": [
       "{'PV': 1.5057628229021947}"
      ]
     },
     "execution_count": 7,
     "metadata": {},
     "output_type": "execute_result"
    }
   ],
   "source": [
    "%%time\n",
    "\n",
    "product = Product_New(event_dates, events)\n",
    "model = BSModelData_New(spot, vol, rate, div)\n",
    "\n",
    "# only price\n",
    "res = MonteCarlo_Value(product, model, n_paths, \"sobol\", False, False)\n",
    "dict(res)"
   ]
  },
  {
   "cell_type": "code",
   "execution_count": 8,
   "id": "e2ca80ff-c418-4791-a9e1-3656cdf2202d",
   "metadata": {},
   "outputs": [
    {
     "name": "stdout",
     "output_type": "stream",
     "text": [
      "CPU times: total: 8.52 s\n",
      "Wall time: 566 ms\n"
     ]
    },
    {
     "data": {
      "text/plain": [
       "{'PV': 1.5052428979007988,\n",
       " 'd_BARRIER': 0.08925165480975476,\n",
       " 'd_STRIKE': -0.1404746448629027,\n",
       " 'd_div': -19.38122938204202,\n",
       " 'd_rate': 14.865500688339626,\n",
       " 'd_spot': 0.04974902216657963,\n",
       " 'd_vol': -7.227015534880575}"
      ]
     },
     "execution_count": 8,
     "metadata": {},
     "output_type": "execute_result"
    }
   ],
   "source": [
    "%%time\n",
    "\n",
    "# price with derivatives\n",
    "res = MonteCarlo_Value(product, model, n_paths, \"sobol\", False, True)\n",
    "dict(res)"
   ]
  },
  {
   "cell_type": "markdown",
   "id": "30915ead-f6e4-4c89-ac93-2ec3cb193cc3",
   "metadata": {},
   "source": [
    "## 1. DAL.JAX\n",
    "----------------"
   ]
  },
  {
   "cell_type": "code",
   "execution_count": 9,
   "id": "c1c59d60-67bd-4c7f-87b9-f8e59c7c7fef",
   "metadata": {},
   "outputs": [],
   "source": [
    "import jax\n",
    "import jax.numpy as jnp\n",
    "import math"
   ]
  },
  {
   "cell_type": "code",
   "execution_count": 10,
   "id": "1f5f069a-068d-4212-bbce-859a97fc28ba",
   "metadata": {},
   "outputs": [],
   "source": [
    "if freq == \"1M\":\n",
    "    dt, NT = 1.0 / 12, 3 * 12\n",
    "elif freq == \"1W\":\n",
    "    dt, NT = 1.0 / 51, 3 * 51"
   ]
  },
  {
   "cell_type": "code",
   "execution_count": 11,
   "id": "cc3f648a-1d1d-452e-8032-007b06978085",
   "metadata": {},
   "outputs": [],
   "source": [
    "@jax.jit\n",
    "def update_state(Z, s, alive, not_alive, M, μ, d, σ, delta_t, log_b):\n",
    "    s = s + (μ - d - 0.5 * σ * σ) * delta_t +  σ * jnp.sqrt(delta_t) * Z[0, :]\n",
    "    alive = jnp.where(s >= log_b, not_alive, alive)\n",
    "    return alive, s\n",
    "\n",
    "\n",
    "def compute_barrier_price_jax(model, delta_t=dt, NT = NT, M=n_paths, key=jax.random.PRNGKey(1)):\n",
    "    \"\"\"\n",
    "    Estimate the price of the up barrieroption using Monte Carlo.\n",
    "    \"\"\"\n",
    "    # Set up\n",
    "    μ, d, σ, S, K, b = model\n",
    "    log_b = jnp.log(b)\n",
    "    s = jnp.full(M, jnp.log(S))\n",
    "    alive = jnp.full(M, 1.0)\n",
    "    not_alive = jnp.full(M, 0.0)\n",
    "    subkey = key\n",
    "    for _ in range(NT):\n",
    "        key, subkey = jax.random.split(subkey)\n",
    "        Z = jax.random.normal(key, (1, M))\n",
    "        alive, s = update_state(Z, s, alive, not_alive, M, μ, d, σ, delta_t, log_b)\n",
    "    expectation = jnp.mean(alive * jnp.maximum(jnp.exp(s) - K, 0))\n",
    "    return jnp.exp(-μ * delta_t * NT) * expectation\n",
    "\n",
    "_ = compute_barrier_price_jax(default_model).block_until_ready()"
   ]
  },
  {
   "cell_type": "code",
   "execution_count": 12,
   "id": "dc8fac32-7569-40d5-96fa-195c047341fb",
   "metadata": {},
   "outputs": [
    {
     "name": "stdout",
     "output_type": "stream",
     "text": [
      "CPU times: total: 172 ms\n",
      "Wall time: 398 ms\n"
     ]
    },
    {
     "data": {
      "text/plain": [
       "{'PV': 1.5037587999606363}"
      ]
     },
     "execution_count": 12,
     "metadata": {},
     "output_type": "execute_result"
    }
   ],
   "source": [
    "%%time\n",
    "\n",
    "# only price without jit\n",
    "res = compute_barrier_price_jax(default_model).block_until_ready()\n",
    "print_result(res)"
   ]
  },
  {
   "cell_type": "code",
   "execution_count": 13,
   "id": "b22245a1-2e30-47f1-bd6c-6853908f2043",
   "metadata": {},
   "outputs": [],
   "source": [
    "compute_barrier_value_and_grad = jax.value_and_grad(compute_barrier_price_jax)\n",
    "_ = compute_barrier_value_and_grad(default_model)[0].block_until_ready()"
   ]
  },
  {
   "cell_type": "code",
   "execution_count": 14,
   "id": "d8919ec5-9bc4-476f-aba8-3a6b430f1a09",
   "metadata": {},
   "outputs": [
    {
     "name": "stdout",
     "output_type": "stream",
     "text": [
      "CPU times: total: 109 ms\n",
      "Wall time: 582 ms\n"
     ]
    },
    {
     "data": {
      "text/plain": [
       "{'PV': 1.5037587999606363,\n",
       " 'd_rate': 50.37812987806875,\n",
       " 'd_div': -54.889406277950656,\n",
       " 'd_vol': 21.471054744003276,\n",
       " 'd_spot': 0.18296468759316895,\n",
       " 'd_STRIKE': -0.13993924966130214,\n",
       " 'd_barrier': 0.0}"
      ]
     },
     "execution_count": 14,
     "metadata": {},
     "output_type": "execute_result"
    }
   ],
   "source": [
    "%%time\n",
    "\n",
    "# price and derivatives without jit\n",
    "# TODO: the output numbers of greeks are not correct\n",
    "result = compute_barrier_value_and_grad(default_model, 1.0/ 12, 36, n_paths)\n",
    "result[0].block_until_ready()\n",
    "result[1].block_until_ready()\n",
    "print_result(result, names=(\"rate\", \"div\", \"vol\", \"spot\", \"STRIKE\", \"barrier\"))"
   ]
  },
  {
   "cell_type": "code",
   "execution_count": null,
   "id": "e2f1ff51-5e5f-4b8b-a981-f7e33a8df39f",
   "metadata": {},
   "outputs": [],
   "source": []
  }
 ],
 "metadata": {
  "kernelspec": {
   "display_name": "Python 3 (ipykernel)",
   "language": "python",
   "name": "python3"
  },
  "language_info": {
   "codemirror_mode": {
    "name": "ipython",
    "version": 3
   },
   "file_extension": ".py",
   "mimetype": "text/x-python",
   "name": "python",
   "nbconvert_exporter": "python",
   "pygments_lexer": "ipython3",
   "version": "3.11.5"
  }
 },
 "nbformat": 4,
 "nbformat_minor": 5
}
