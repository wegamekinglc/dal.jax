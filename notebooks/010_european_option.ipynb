{
 "cells": [
  {
   "cell_type": "code",
   "execution_count": 1,
   "id": "4e60705c-3abe-44ca-b24d-08d31f44426e",
   "metadata": {},
   "outputs": [],
   "source": [
    "from jax import config\n",
    "from dal_utils import print_result\n",
    "config.update(\"jax_enable_x64\", True)"
   ]
  },
  {
   "cell_type": "code",
   "execution_count": 2,
   "id": "d9ffd280-b78b-4e92-953b-675f254e2f8d",
   "metadata": {
    "tags": []
   },
   "outputs": [],
   "source": [
    "import numpy as np\n",
    "import numpy as np\n",
    "from numpy.random import randn\n",
    "\n",
    "rate, div, vol, spot, strike = 0.05, 0.03, 0.15, 100.0, 120.0\n",
    "\n",
    "def create_model():\n",
    "    return np.array([rate, div, vol, spot, strike])\n",
    "\n",
    "n_paths = 2 ** 20\n",
    "T = 3.0"
   ]
  },
  {
   "cell_type": "code",
   "execution_count": 3,
   "id": "af4712a8-b748-4fa5-bb97-24c2f5c21c1b",
   "metadata": {
    "tags": []
   },
   "outputs": [],
   "source": [
    "default_model = create_model()"
   ]
  },
  {
   "cell_type": "markdown",
   "id": "05a0ac5f-7906-413e-841c-222b8840bca4",
   "metadata": {},
   "source": [
    "## 0. DAL\n",
    "------------------"
   ]
  },
  {
   "cell_type": "code",
   "execution_count": 4,
   "id": "e959b13d-2484-4a59-82f8-d3d42f75c1d4",
   "metadata": {
    "tags": []
   },
   "outputs": [
    {
     "data": {
      "text/plain": [
       "'2024.05.08'"
      ]
     },
     "execution_count": 4,
     "metadata": {},
     "output_type": "execute_result"
    }
   ],
   "source": [
    "# !pip install dal-python -U\n",
    "\n",
    "from dal import *\n",
    "import dal\n",
    "dal.__version__"
   ]
  },
  {
   "cell_type": "code",
   "execution_count": 5,
   "id": "22648162-f9e5-44cd-9f53-617026b8b5a4",
   "metadata": {
    "tags": []
   },
   "outputs": [],
   "source": [
    "today = Date_(2022, 9, 15)\n",
    "EvaluationDate_Set(today)\n",
    "\n",
    "maturity = today.AddDays(int(365 * T))"
   ]
  },
  {
   "cell_type": "code",
   "execution_count": 6,
   "id": "b4c626a6-f057-4cfd-8512-e4506ba413d4",
   "metadata": {
    "tags": []
   },
   "outputs": [
    {
     "name": "stdout",
     "output_type": "stream",
     "text": [
      "CPU times: total: 297 ms\n",
      "Wall time: 18.6 ms\n"
     ]
    },
    {
     "data": {
      "text/plain": [
       "{'PV': 5.201768833210824}"
      ]
     },
     "execution_count": 6,
     "metadata": {},
     "output_type": "execute_result"
    }
   ],
   "source": [
    "%%time\n",
    "event_dates = [\"STRIKE\", maturity]\n",
    "events = [f\"{strike}\", f\"call pays MAX(spot() - STRIKE, 0.0)\"]\n",
    "\n",
    "product = Product_New(event_dates, events)\n",
    "model = BSModelData_New(spot, vol, rate, div)\n",
    "\n",
    "# only price\n",
    "res = MonteCarlo_Value(product, model, n_paths, \"sobol\", False, False)\n",
    "dict(res)"
   ]
  },
  {
   "cell_type": "code",
   "execution_count": 7,
   "id": "f356d1f4-c61d-4c6e-8fa9-4313adfa13d8",
   "metadata": {
    "tags": []
   },
   "outputs": [
    {
     "name": "stdout",
     "output_type": "stream",
     "text": [
      "CPU times: total: 281 ms\n",
      "Wall time: 22.8 ms\n"
     ]
    },
    {
     "data": {
      "text/plain": [
       "{'PV': 5.201768833617434,\n",
       " 'd_STRIKE': -0.2358448008636096,\n",
       " 'd_div': -100.50943481175733,\n",
       " 'd_rate': 84.90412831090501,\n",
       " 'd_spot': 0.3350314493725247,\n",
       " 'd_vol': 59.58503275989193}"
      ]
     },
     "execution_count": 7,
     "metadata": {},
     "output_type": "execute_result"
    }
   ],
   "source": [
    "%%time\n",
    "\n",
    "# price with derivatives\n",
    "res = MonteCarlo_Value(product, model, n_paths, \"sobol\", False, True)\n",
    "dict(res)"
   ]
  },
  {
   "cell_type": "markdown",
   "id": "93dec300-336e-4d9b-881a-5a8af5f90846",
   "metadata": {},
   "source": [
    "## 1. DAL.JAX\n",
    "----------------"
   ]
  },
  {
   "cell_type": "code",
   "execution_count": 8,
   "id": "bf1143f1-7bb6-4a73-adbc-97d337deedb9",
   "metadata": {
    "tags": []
   },
   "outputs": [],
   "source": [
    "import jax\n",
    "import jax.numpy as jnp"
   ]
  },
  {
   "cell_type": "code",
   "execution_count": 9,
   "id": "e04ff999-c81f-4ef0-8369-ca4763fa6c3d",
   "metadata": {
    "tags": []
   },
   "outputs": [],
   "source": [
    "def compute_call_price_jax(model, T = 3.0, M=n_paths, key=jax.random.PRNGKey(1)):\n",
    "    \"\"\"\n",
    "    Estimate the price of the call option using Monte Carlo.\n",
    "    \"\"\"\n",
    "    # Set up\n",
    "    μ, d, σ, S, K = model\n",
    "    s = jnp.full(M, jnp.log(S))\n",
    "    Z = jax.random.normal(key, (1, M))\n",
    "    s = s + (μ - d - 0.5 * σ * σ) * T +  σ * jnp.sqrt(T) * Z[0, :]\n",
    "    expectation = jnp.mean(jnp.maximum(jnp.exp(s) - K, 0))\n",
    "    return jnp.exp(-μ * T) * expectation\n",
    "\n",
    "compute_call_price_jax_jit = jax.jit(compute_call_price_jax)\n",
    "_ = compute_call_price_jax(default_model).block_until_ready()\n",
    "_ = compute_call_price_jax_jit(default_model).block_until_ready()"
   ]
  },
  {
   "cell_type": "code",
   "execution_count": 10,
   "id": "5e32f7c3-9a05-4c5e-8d43-a09655af9969",
   "metadata": {
    "tags": []
   },
   "outputs": [
    {
     "name": "stdout",
     "output_type": "stream",
     "text": [
      "CPU times: total: 31.2 ms\n",
      "Wall time: 18.5 ms\n"
     ]
    },
    {
     "data": {
      "text/plain": [
       "{'PV': 5.212623975501859}"
      ]
     },
     "execution_count": 10,
     "metadata": {},
     "output_type": "execute_result"
    }
   ],
   "source": [
    "%%time\n",
    "\n",
    "# only price without jit\n",
    "res = compute_call_price_jax(default_model).block_until_ready()\n",
    "print_result(res)"
   ]
  },
  {
   "cell_type": "code",
   "execution_count": 11,
   "id": "5b0eb92c-171c-4a0e-b2c0-ecab5e8d0833",
   "metadata": {
    "tags": []
   },
   "outputs": [
    {
     "name": "stdout",
     "output_type": "stream",
     "text": [
      "CPU times: total: 0 ns\n",
      "Wall time: 12.1 ms\n"
     ]
    },
    {
     "data": {
      "text/plain": [
       "Array(5.21262398, dtype=float64)"
      ]
     },
     "execution_count": 11,
     "metadata": {},
     "output_type": "execute_result"
    }
   ],
   "source": [
    "%%time\n",
    "\n",
    "# only price with jit\n",
    "compute_call_price_jax_jit(default_model).block_until_ready()"
   ]
  },
  {
   "cell_type": "code",
   "execution_count": 12,
   "id": "6ecc6289-d1cf-4ba5-9f13-6273d60aaa8b",
   "metadata": {
    "tags": []
   },
   "outputs": [],
   "source": [
    "compute_call_value_and_grad = jax.value_and_grad(compute_call_price_jax)\n",
    "compute_call_value_and_grad_jit = jax.value_and_grad(jax.jit(compute_call_price_jax))\n",
    "\n",
    "_ = compute_call_value_and_grad(default_model)[0].block_until_ready()\n",
    "_ = compute_call_value_and_grad_jit(default_model)[0].block_until_ready()"
   ]
  },
  {
   "cell_type": "code",
   "execution_count": 13,
   "id": "4824ad09-d3ee-4412-8c58-cf71f17a805c",
   "metadata": {
    "tags": []
   },
   "outputs": [
    {
     "name": "stdout",
     "output_type": "stream",
     "text": [
      "CPU times: total: 0 ns\n",
      "Wall time: 52.4 ms\n"
     ]
    },
    {
     "data": {
      "text/plain": [
       "{'PV': 5.212623975501859,\n",
       " 'd_rate': 85.07049516715765,\n",
       " 'd_div': -100.70836709366321,\n",
       " 'd_vol': 59.709451070052516,\n",
       " 'd_spot': 0.3356945569788774,\n",
       " 'd_STRIKE': -0.23630693101988237}"
      ]
     },
     "execution_count": 13,
     "metadata": {},
     "output_type": "execute_result"
    }
   ],
   "source": [
    "%%time\n",
    "\n",
    "# price and derivatives without jit\n",
    "result = compute_call_value_and_grad(default_model)\n",
    "result[0].block_until_ready()\n",
    "result[1].block_until_ready()\n",
    "print_result(result)"
   ]
  },
  {
   "cell_type": "code",
   "execution_count": 14,
   "id": "20b023e7-a017-46dc-b4ed-cae48c1f7540",
   "metadata": {
    "tags": []
   },
   "outputs": [
    {
     "name": "stdout",
     "output_type": "stream",
     "text": [
      "CPU times: total: 0 ns\n",
      "Wall time: 19.2 ms\n"
     ]
    },
    {
     "data": {
      "text/plain": [
       "{'PV': 5.212623975501858,\n",
       " 'd_rate': 85.07049516715765,\n",
       " 'd_div': -100.70836709366321,\n",
       " 'd_vol': 59.709451070052516,\n",
       " 'd_spot': 0.3356945569788774,\n",
       " 'd_STRIKE': -0.23630693101988237}"
      ]
     },
     "execution_count": 14,
     "metadata": {},
     "output_type": "execute_result"
    }
   ],
   "source": [
    "%%time\n",
    "\n",
    "# price and derivatives with jit\n",
    "result = compute_call_value_and_grad_jit(default_model)\n",
    "result[0].block_until_ready()\n",
    "result[1].block_until_ready()\n",
    "print_result(result)"
   ]
  },
  {
   "cell_type": "code",
   "execution_count": null,
   "id": "0fe6ef05-4873-4f1e-8dca-20324967b59d",
   "metadata": {},
   "outputs": [],
   "source": []
  }
 ],
 "metadata": {
  "kernelspec": {
   "display_name": "Python 3 (ipykernel)",
   "language": "python",
   "name": "python3"
  },
  "language_info": {
   "codemirror_mode": {
    "name": "ipython",
    "version": 3
   },
   "file_extension": ".py",
   "mimetype": "text/x-python",
   "name": "python",
   "nbconvert_exporter": "python",
   "pygments_lexer": "ipython3",
   "version": "3.11.5"
  }
 },
 "nbformat": 4,
 "nbformat_minor": 5
}
